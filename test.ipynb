{
 "cells": [
  {
   "cell_type": "code",
   "execution_count": 1,
   "metadata": {},
   "outputs": [],
   "source": [
    "import pandas as pd"
   ]
  },
  {
   "cell_type": "code",
   "execution_count": 5,
   "metadata": {},
   "outputs": [
    {
     "name": "stdout",
     "output_type": "stream",
     "text": [
      "Collecting kubernetes\n",
      "  Using cached kubernetes-31.0.0-py2.py3-none-any.whl.metadata (1.5 kB)\n",
      "Requirement already satisfied: certifi>=14.05.14 in c:\\users\\vinay\\.conda\\envs\\dtx_chat\\lib\\site-packages (from kubernetes) (2024.8.30)\n",
      "Requirement already satisfied: six>=1.9.0 in c:\\users\\vinay\\.conda\\envs\\dtx_chat\\lib\\site-packages (from kubernetes) (1.16.0)\n",
      "Requirement already satisfied: python-dateutil>=2.5.3 in c:\\users\\vinay\\.conda\\envs\\dtx_chat\\lib\\site-packages (from kubernetes) (2.9.0)\n",
      "Requirement already satisfied: pyyaml>=5.4.1 in c:\\users\\vinay\\.conda\\envs\\dtx_chat\\lib\\site-packages (from kubernetes) (6.0.2)\n",
      "Requirement already satisfied: google-auth>=1.0.1 in c:\\users\\vinay\\.conda\\envs\\dtx_chat\\lib\\site-packages (from kubernetes) (2.35.0)\n",
      "Collecting websocket-client!=0.40.0,!=0.41.*,!=0.42.*,>=0.32.0 (from kubernetes)\n",
      "  Using cached websocket_client-1.8.0-py3-none-any.whl.metadata (8.0 kB)\n",
      "Requirement already satisfied: requests in c:\\users\\vinay\\.conda\\envs\\dtx_chat\\lib\\site-packages (from kubernetes) (2.32.3)\n",
      "Collecting requests-oauthlib (from kubernetes)\n",
      "  Using cached requests_oauthlib-2.0.0-py2.py3-none-any.whl.metadata (11 kB)\n",
      "Collecting oauthlib>=3.2.2 (from kubernetes)\n",
      "  Using cached oauthlib-3.2.2-py3-none-any.whl.metadata (7.5 kB)\n",
      "Requirement already satisfied: urllib3>=1.24.2 in c:\\users\\vinay\\.conda\\envs\\dtx_chat\\lib\\site-packages (from kubernetes) (2.2.3)\n",
      "Collecting durationpy>=0.7 (from kubernetes)\n",
      "  Using cached durationpy-0.9-py3-none-any.whl.metadata (338 bytes)\n",
      "Requirement already satisfied: cachetools<6.0,>=2.0.0 in c:\\users\\vinay\\.conda\\envs\\dtx_chat\\lib\\site-packages (from google-auth>=1.0.1->kubernetes) (5.5.0)\n",
      "Requirement already satisfied: pyasn1-modules>=0.2.1 in c:\\users\\vinay\\.conda\\envs\\dtx_chat\\lib\\site-packages (from google-auth>=1.0.1->kubernetes) (0.4.1)\n",
      "Requirement already satisfied: rsa<5,>=3.1.4 in c:\\users\\vinay\\.conda\\envs\\dtx_chat\\lib\\site-packages (from google-auth>=1.0.1->kubernetes) (4.9)\n",
      "Requirement already satisfied: charset-normalizer<4,>=2 in c:\\users\\vinay\\.conda\\envs\\dtx_chat\\lib\\site-packages (from requests->kubernetes) (3.3.2)\n",
      "Requirement already satisfied: idna<4,>=2.5 in c:\\users\\vinay\\.conda\\envs\\dtx_chat\\lib\\site-packages (from requests->kubernetes) (3.10)\n",
      "Requirement already satisfied: pyasn1<0.7.0,>=0.4.6 in c:\\users\\vinay\\.conda\\envs\\dtx_chat\\lib\\site-packages (from pyasn1-modules>=0.2.1->google-auth>=1.0.1->kubernetes) (0.6.1)\n",
      "Using cached kubernetes-31.0.0-py2.py3-none-any.whl (1.9 MB)\n",
      "Using cached durationpy-0.9-py3-none-any.whl (3.5 kB)\n",
      "Using cached oauthlib-3.2.2-py3-none-any.whl (151 kB)\n",
      "Using cached websocket_client-1.8.0-py3-none-any.whl (58 kB)\n",
      "Using cached requests_oauthlib-2.0.0-py2.py3-none-any.whl (24 kB)\n",
      "Installing collected packages: durationpy, websocket-client, oauthlib, requests-oauthlib, kubernetes\n",
      "Successfully installed durationpy-0.9 kubernetes-31.0.0 oauthlib-3.2.2 requests-oauthlib-2.0.0 websocket-client-1.8.0\n"
     ]
    }
   ],
   "source": [
    "!pip install  kubernetes"
   ]
  },
  {
   "cell_type": "code",
   "execution_count": 3,
   "metadata": {},
   "outputs": [
    {
     "name": "stdout",
     "output_type": "stream",
     "text": [
      "Listing pods in the default namespace:\n",
      "Pod Name: alpine-pod, Status: Running\n",
      "Pod Name: busybox-pod, Status: Running\n",
      "Pod Name: echo-pod, Status: Running\n",
      "Pod Name: httpbin-pod, Status: Running\n",
      "Pod Name: nginx-pod, Status: Running\n",
      "Pod Name: redis-pod, Status: Running\n",
      "Listing namespaces:\n",
      "Namespace Name: default\n",
      "Namespace Name: kube-node-lease\n",
      "Namespace Name: kube-public\n",
      "Namespace Name: kube-system\n",
      "Namespace Name: kubernetes-dashboard\n",
      "Namespace Name: test\n"
     ]
    }
   ],
   "source": [
    "from kubernetes import client, config\n",
    "\n",
    "# Load the kubeconfig file\n",
    "config.load_kube_config()\n",
    "\n",
    "# Create an API client for the core API (v1) group\n",
    "v1 = client.CoreV1Api()\n",
    "\n",
    "# List all pods in the default namespace\n",
    "pods = v1.list_namespaced_pod(namespace=\"test\")\n",
    "\n",
    "print(\"Listing pods in the default namespace:\")\n",
    "for pod in pods.items:\n",
    "    print(f\"Pod Name: {pod.metadata.name}, Status: {pod.status.phase}\")\n",
    "    \n",
    "\n",
    "\n"
   ]
  },
  {
   "cell_type": "code",
   "execution_count": null,
   "metadata": {},
   "outputs": [],
   "source": []
  }
 ],
 "metadata": {
  "kernelspec": {
   "display_name": "DTX_chat",
   "language": "python",
   "name": "python3"
  },
  "language_info": {
   "codemirror_mode": {
    "name": "ipython",
    "version": 3
   },
   "file_extension": ".py",
   "mimetype": "text/x-python",
   "name": "python",
   "nbconvert_exporter": "python",
   "pygments_lexer": "ipython3",
   "version": "3.10.15"
  }
 },
 "nbformat": 4,
 "nbformat_minor": 2
}
